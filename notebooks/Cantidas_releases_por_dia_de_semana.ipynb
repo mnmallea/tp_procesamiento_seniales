{
 "cells": [
  {
   "cell_type": "code",
   "execution_count": null,
   "metadata": {},
   "outputs": [],
   "source": [
    "import pandas as pd\n",
    "import json\n",
    "import matplotlib.pyplot as plt"
   ]
  },
  {
   "cell_type": "code",
   "execution_count": null,
   "metadata": {},
   "outputs": [],
   "source": [
    "with open('/app/notebooks/jsons/Cantidas_releases_por_dia_de_semana(1 es domingo).json') as jsonReleases:\n",
    "    data = json.load(jsonReleases)"
   ]
  },
  {
   "cell_type": "code",
   "execution_count": null,
   "metadata": {},
   "outputs": [],
   "source": [
    "df = pd.DataFrame(data)\n",
    "df['dia_de_semana'] = df.dia_de_semana.astype(int)\n",
    "df['cantidad_releases'] = df.cantidad_releases.astype(int)\n",
    "dfSorted = df.sort_values(['dia_de_semana'])\n",
    "dfSorted\n"
   ]
  },
  {
   "cell_type": "code",
   "execution_count": null,
   "metadata": {},
   "outputs": [],
   "source": [
    "plt.figure(figsize=(10,5))\n",
    "plt.title('Cantidad de Lanzamientos por Día de semana')\n",
    "plt.bar(['Domingo','Lunes','Martes','Miércoles','Jueves','Viernes','Sábado'],dfSorted.cantidad_releases)\n",
    "plt.ticklabel_format(style='plain', axis='y', scilimits=(0,0))\n",
    "\n",
    "plt.xlabel('Día')\n",
    "plt.ylabel('Cantidad Lanzamientos')\n",
    "\n",
    "plt.show()"
   ]
  }
 ],
 "metadata": {
  "kernelspec": {
   "display_name": "Python 3",
   "language": "python",
   "name": "python3"
  },
  "language_info": {
   "codemirror_mode": {
    "name": "ipython",
    "version": 3
   },
   "file_extension": ".py",
   "mimetype": "text/x-python",
   "name": "python",
   "nbconvert_exporter": "python",
   "pygments_lexer": "ipython3",
   "version": "3.8.0"
  }
 },
 "nbformat": 4,
 "nbformat_minor": 4
}
