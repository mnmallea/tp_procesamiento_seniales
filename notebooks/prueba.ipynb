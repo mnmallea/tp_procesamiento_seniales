{
 "cells": [
  {
   "cell_type": "code",
   "execution_count": null,
   "metadata": {},
   "outputs": [],
   "source": [
    "import pandas as pd\n",
    "import json\n",
    "import matplotlib.pyplot as plt"
   ]
  },
  {
   "cell_type": "code",
   "execution_count": null,
   "metadata": {},
   "outputs": [],
   "source": [
    "with open('/app/notebooks/jsons/Cantidad_forks_por_anio_y_mes.json') as jsonForks:\n",
    "    data = json.load(jsonForks)"
   ]
  },
  {
   "cell_type": "code",
   "execution_count": null,
   "metadata": {},
   "outputs": [],
   "source": [
    "df = pd.DataFrame(data)\n",
    "df['anio'] = df.anio.astype(int)\n",
    "df['numero_mes'] = df.numero_mes.astype(int)\n",
    "df['cantidad_forks'] = df.cantidad_forks.astype(int)\n",
    "dfSorted = df.sort_values(['anio','numero_mes'])\n",
    "dfSorted\n"
   ]
  },
  {
   "cell_type": "code",
   "execution_count": null,
   "metadata": {},
   "outputs": [],
   "source": [
    "dfSorted2012 = dfSorted[dfSorted.anio==2012]\n",
    "dfSorted2013 = dfSorted[dfSorted.anio==2013]\n",
    "dfSorted2014 = dfSorted[dfSorted.anio==2014]\n",
    "dfSorted2015 = dfSorted[dfSorted.anio==2015]\n",
    "dfSorted2016 = dfSorted[dfSorted.anio==2016]\n",
    "dfSorted2017 = dfSorted[dfSorted.anio==2017]\n",
    "dfSorted2018 = dfSorted[dfSorted.anio==2018]\n",
    "dfSorted2019 = dfSorted[dfSorted.anio==2019]"
   ]
  },
  {
   "cell_type": "code",
   "execution_count": null,
   "metadata": {},
   "outputs": [],
   "source": [
    "plt.figure(figsize=(10,5))\n",
    "plt.title('Cantidad de forks por mes por año')\n",
    "\n",
    "plt.plot(dfSorted2012.numero_mes,dfSorted2012.cantidad_forks,'.-',label='2012')\n",
    "plt.plot(dfSorted2013.numero_mes,dfSorted2013.cantidad_forks,'.-',label='2013')\n",
    "plt.plot(dfSorted2014.numero_mes,dfSorted2014.cantidad_forks,'.-',label='2014')\n",
    "plt.plot(dfSorted2015.numero_mes,dfSorted2015.cantidad_forks,'.-',label='2015')\n",
    "plt.plot(dfSorted2016.numero_mes,dfSorted2016.cantidad_forks,'.-',label='2016')\n",
    "plt.plot(dfSorted2017.numero_mes,dfSorted2017.cantidad_forks,'.-',label='2017')\n",
    "plt.plot(dfSorted2018.numero_mes,dfSorted2018.cantidad_forks,'.-',label='2018')\n",
    "plt.plot(dfSorted2019.numero_mes,dfSorted2019.cantidad_forks,'.-',label='2019')\n",
    "\n",
    "\n",
    "plt.ticklabel_format(style='plain', axis='y', scilimits=(0,0))\n",
    "\n",
    "plt.xlabel('Mes')\n",
    "plt.ylabel('Cantidad Forks')\n",
    "plt.legend()\n",
    "plt.show()"
   ]
  },
  {
   "cell_type": "code",
   "execution_count": null,
   "metadata": {},
   "outputs": [],
   "source": []
  }
 ],
 "metadata": {
  "kernelspec": {
   "display_name": "Python 3",
   "language": "python",
   "name": "python3"
  },
  "language_info": {
   "codemirror_mode": {
    "name": "ipython",
    "version": 3
   },
   "file_extension": ".py",
   "mimetype": "text/x-python",
   "name": "python",
   "nbconvert_exporter": "python",
   "pygments_lexer": "ipython3",
   "version": "3.8.0"
  }
 },
 "nbformat": 4,
 "nbformat_minor": 4
}
